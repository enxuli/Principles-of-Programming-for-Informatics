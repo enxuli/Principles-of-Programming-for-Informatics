{
 "cells": [
  {
   "cell_type": "markdown",
   "metadata": {},
   "source": [
    "INF 510, Lab #4\n",
    "---------------\n",
    "\n",
    "Thursday, February 1 2018 (5:00 - 6:50pm)\n",
    "\n",
    " \n",
    "\n",
    "### Lab rules\n",
    "\n",
    "1.  Please read the instructions and pronlem prompts **carefully**.  Be sure to solve the problem the way it is asked (i.e. are you supposed to define a function?  Catch exceptions?  Use a particular construct?)  Solutions that \"work\", but are not composed according to the directions will not receive [full] credit\n",
    "\n",
    "2.  This lab is to be done *individually*. You may talk to your fellow classmates about general issues (*\"Remind me again: What's the difference between a parameter and an argument?\"*) but not about the specifics of how to do these exercises.\n",
    "\n",
    "3.  Along a similar vein, you can ask the TA for help, but ask questions about **concepts**.  (i.e. *\"I don’t understand how the else block works\"*, not \"*my program isn’t doing what I want\"*).  The TA is there to help, but not to do your work for you.\n",
    "\n",
    "4.  You are welcome to use the class resources and the Internet. But try to google for *concepts*, not your specific tasks.  The goal for you to begin to start thinking algorithmically, and hopefully memorize a little syntax by osmosis. If you just blindly do the exercises, without actually *thinking* about them, the next time you see something related but slightly altered — like, say, on an exam — you won’t be able to solve the problem. So avoid brainlessly cutting and pasting code snippets.\n",
    "\n",
    "5.  Play with variations. Solve one of the problems, and then copy the code to a new cell and play around with it. Experiment! Break stuff! Doing this is **the single most important thing** when learning a programming language.\n",
    "\n",
    "6.  When you have finished all the exercises, let the TA know, and he will check your work.  Presuming you’ve done things correctly, you’re free to go.\n",
    "\n",
    "7.  Have fun!\n",
    "\n",
    "\n",
    "\n"
   ]
  },
  {
   "cell_type": "markdown",
   "metadata": {},
   "source": [
    "### Problem 1 (1 point)\n",
    "\n",
    "Think about a program which repeatedly reads numbers and adds them to a list, until the user enters \"done\". Once \"done\" is entered, it prints out the min, max, average, sum, and number of the numbers in the list. If the user enters anything other than a number, it detects their mistake using by catching exceptions (try/except), prints an error message, and prompts the user for the next number.\n",
    "\n",
    "How might you design this program?  Think about the different \"parts\" it contains: there's probably a loop of some sort, and a few conditionals based on what the user inputs, and some exception handling (and maybe other things I've haven't mentioned!)\n",
    "\n",
    "Write down in English -- or in *pseudo-code* -- how this program might look.  For example, if I was going to write a program that added up every number in a list of numbers (checking to make sure the elements of a list were numbers) I might write the following:\n",
    "\n",
    "~~~~~~~~~~~~~~~~~~~~~~~~~~~~~~~~~~~~~~~~~~~~~~~~~~~~~~~~~~~~~~~~~~~~~~~~~~~~~~~~\n",
    "set some running total to zero\n",
    "iterate through the list\n",
    "for each element in the list, I need to do some stuff:\n",
    "     check if the element is a legit number\n",
    "     if it is then I should\n",
    "          add the number to my running total\n",
    "     if it is not legit then I should\n",
    "          tell the user to do it right next time and move on to the next element\n",
    "~~~~~~~~~~~~~~~~~~~~~~~~~~~~~~~~~~~~~~~~~~~~~~~~~~~~~~~~~~~~~~~~~~~~~~~~~~~~~~~~\n",
    "\n",
    "Write your answer in the next cell, replacing the \"Replace this with your answer\" text in between the dashed lines.  Be **sure** to leave the \"-----------\" lines there. "
   ]
  },
  {
   "cell_type": "markdown",
   "metadata": {},
   "source": [
    "~~~~~~~~~~~~~~~~~~~~~~~~~~~~~~~~~~~~~~~~~~~~~~~~~~~~~~~~~~~~~~~~~~~~~~~~~~~~~~~~\n",
    "# Replace this text with your answer to Problem 1.  Leave the dashed lines above and below.\n",
    "\n",
    "~~~~~~~~~~~~~~~~~~~~~~~~~~~~~~~~~~~~~~~~~~~~~~~~~~~~~~~~~~~~~~~~~~~~~~~~~~~~~~~~\n",
    "\n",
    "\n"
   ]
  },
  {
   "cell_type": "markdown",
   "metadata": {},
   "source": [
    "### Problem 2 (2 points)\n",
    "\n",
    "Actually implmement the program described in Problem 1."
   ]
  },
  {
   "cell_type": "code",
   "execution_count": 7,
   "metadata": {
    "collapsed": false,
    "scrolled": true
   },
   "outputs": [
    {
     "name": "stdout",
     "output_type": "stream",
     "text": [
      "Enter a number:2\n",
      "Enter a number:done\n",
      "The total is 2\n",
      "The count is 1\n",
      "The average is 2.0\n",
      "The min is 2\n",
      "The max is 2\n"
     ]
    }
   ],
   "source": [
    "number_list = list()\n",
    "while True:\n",
    "    try:\n",
    "        user_input = input(\"Enter a number:\")\n",
    "        if user_input == 'done':\n",
    "            break\n",
    "        number_list.append(int(user_input))\n",
    "    except ValueError:\n",
    "        print(\"That is not a number!  Try again.\")\n",
    "print(\"The total is\", sum(number_list))\n",
    "print(\"The count is\", len(number_list))\n",
    "print(\"The average is\", float(sum(number_list))/len(number_list))\n",
    "print(\"The min is\", min(number_list))\n",
    "print(\"The max is\", max(number_list))"
   ]
  },
  {
   "cell_type": "markdown",
   "metadata": {},
   "source": [
    "### Problem 3 (1 point)\n",
    "\n",
    "Write a function called *chop()* that takes a list and modifies it, removing the first and last elements, and returns None.\n",
    "\n",
    "For example:\n",
    "~~~~~~~~~~~~~~~~~~~~~~~~~~~~~~~~~~~~~~~~~~~~~~~~~~~~~~~~~~~~~~~~~~~~~~~~~~~~~~~~\n",
    "> my_list = [1,2,3,4,5]\n",
    "> output = chop(my_list)\n",
    "> print(output)\n",
    "None\n",
    "> print(my_list)\n",
    "[2,3,4]\n",
    "~~~~~~~~~~~~~~~~~~~~~~~~~~~~~~~~~~~~~~~~~~~~~~~~~~~~~~~~~~~~~~~~~~~~~~~~~~~~~~~~\n",
    "\n"
   ]
  },
  {
   "cell_type": "code",
   "execution_count": 52,
   "metadata": {
    "collapsed": true
   },
   "outputs": [],
   "source": [
    "def chop(my_list):\n",
    "    my_list.pop(0)\n",
    "    my_list.pop(-1)\n",
    "    return None"
   ]
  },
  {
   "cell_type": "code",
   "execution_count": 60,
   "metadata": {
    "collapsed": false
   },
   "outputs": [
    {
     "name": "stdout",
     "output_type": "stream",
     "text": [
      "None\n",
      "[2, 3, 4]\n"
     ]
    }
   ],
   "source": [
    "my_list = [1,2,3,4,5]\n",
    "output = chop(my_list)\n",
    "print(output)\n",
    "print(my_list)"
   ]
  },
  {
   "cell_type": "markdown",
   "metadata": {},
   "source": [
    "### Problem 4 (1 point)\n",
    "\n",
    "Write a function called *middle()* that takes a list and returns a new list that contains all but the first and last elements.\n",
    "\n",
    "For example:\n",
    "~~~~~~~~~~~~~~~~~~~~~~~~~~~~~~~~~~~~~~~~~~~~~~~~~~~~~~~~~~~~~~~~~~~~~~~~~~~~~~~~\n",
    "> my_list = [1,2,3,4,5]\n",
    "> output = middle(my_list)\n",
    "> print(output)\n",
    "[2,3,4]\n",
    "> print(my_list)\n",
    "[1,2,3,4,5]\n",
    "~~~~~~~~~~~~~~~~~~~~~~~~~~~~~~~~~~~~~~~~~~~~~~~~~~~~~~~~~~~~~~~~~~~~~~~~~~~~~~~~\n",
    "\n"
   ]
  },
  {
   "cell_type": "code",
   "execution_count": 58,
   "metadata": {
    "collapsed": true
   },
   "outputs": [],
   "source": [
    "def middle(my_list):\n",
    "    return my_list[1:len(my_list)-1]"
   ]
  },
  {
   "cell_type": "code",
   "execution_count": 59,
   "metadata": {
    "collapsed": false
   },
   "outputs": [
    {
     "name": "stdout",
     "output_type": "stream",
     "text": [
      "[2, 3, 4]\n",
      "[1, 2, 3, 4, 5]\n"
     ]
    }
   ],
   "source": [
    "my_list = [1,2,3,4,5]\n",
    "output = middle(my_list)\n",
    "print(output)\n",
    "print(my_list)"
   ]
  },
  {
   "cell_type": "markdown",
   "metadata": {},
   "source": [
    "### Problem 5 (5 points)\n",
    "\n",
    "Write a function called *read_csv(my_file)* that takes one argument, *my_file*, which is a path to a .csv file.  You should catch exceptions if the path does not exist, by printing out an error message.  You do not need to validate the file is a *valid* .csv file, nor that it actually has a .csv extension (which are **not** the same things, by the way!)\n",
    "\n",
    "The read .csv should read the file, one line at a time.  It should assume the first line is a *header*, and read that into a special variable.  [**HINT**: Look at the *readline()* function].  Then, read the rest of the lines of the file.  \n",
    "\n",
    "You'll want to store the header in a special list, *splitting* the header line by a comma delimiter.  Then read the rest of the data in the file.   \n",
    "\n",
    "Then, you'll want to make a new [header] list, by converting all of the header fields to upper case.  Also, remove the last field (\"tie probabilty\") from both the header and the data.  \n",
    "\n",
    "Then write your new header, and altered data back to different *comma-delimited* file, called 'output.csv'.  You need to be careful here; you'll have to iterate across your lists, printing out each item, and then a comma, and terminating each line with a '\\n' character.  Think about the loops you'll need to do this [**HINT**: To print out the actual data, you may need a *nested* loop].\n",
    "\n",
    "The program can output whatever debugging information you need, but otherwise doesn't return anything or produce any output. \n",
    "\n",
    "You should test your function on a file available at: http://www-scf.usc.edu/~jdabrams/inf510/code/week_1_probabilities.csv\n",
    "\n",
    "\n"
   ]
  },
  {
   "cell_type": "code",
   "execution_count": 109,
   "metadata": {
    "collapsed": true
   },
   "outputs": [],
   "source": [
    "def read_csv(my_file):\n",
    "    try:\n",
    "        my_handle = open(my_file)\n",
    "    except:\n",
    "        print(\"Could not open file!\")\n",
    "    else:\n",
    "        header = my_handle.readline()\n",
    "        header_list = header.split(',')\n",
    "        new_header = list()\n",
    "        for item in header_list:\n",
    "            new_header.append(item.upper())\n",
    "        new_header.pop()\n",
    "        \n",
    "        list_of_lists = list()\n",
    "        for line in my_handle:\n",
    "            my_data_list = line.split(',')\n",
    "            list_of_lists.append(my_data_list[:-1])\n",
    "        \n",
    "        my_output_handle = open('output.txt', 'w')\n",
    "        \n",
    "        for item in new_header:\n",
    "            my_output_handle.write(item)\n",
    "            my_output_handle.write(',')\n",
    "        my_output_handle.write('\\n')\n",
    "        \n",
    "        for list_item in list_of_lists:\n",
    "            for item in list_item:\n",
    "                my_output_handle.write(item)\n",
    "                my_output_handle.write(',')\n",
    "            my_output_handle.write('\\n')\n"
   ]
  },
  {
   "cell_type": "code",
   "execution_count": 110,
   "metadata": {
    "collapsed": true
   },
   "outputs": [],
   "source": [
    "read_csv('../code/week_1_probabilities.csv')"
   ]
  },
  {
   "cell_type": "code",
   "execution_count": null,
   "metadata": {
    "collapsed": true
   },
   "outputs": [],
   "source": []
  }
 ],
 "metadata": {
  "kernelspec": {
   "display_name": "Python 2",
   "language": "python",
   "name": "python2"
  },
  "language_info": {
   "codemirror_mode": {
    "name": "ipython",
    "version": 2
   },
   "file_extension": ".py",
   "mimetype": "text/x-python",
   "name": "python",
   "nbconvert_exporter": "python",
   "pygments_lexer": "ipython2",
   "version": "2.7.13"
  }
 },
 "nbformat": 4,
 "nbformat_minor": 2
}
