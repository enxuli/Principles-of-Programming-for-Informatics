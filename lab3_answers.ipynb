{
 "cells": [
  {
   "cell_type": "markdown",
   "metadata": {},
   "source": [
    "INF 510, Lab #3\n",
    "---------------\n",
    "\n",
    "Thursday, September 7 2017 (5:00 - 6:50pm)\n",
    "\n",
    " \n",
    "\n",
    "### Lab rules\n",
    "\n",
    "1.  Please read the instructions and pronlem prompts **carefully**.  Be sure to solve the problem the way it is asked (i.e. are you supposed to define a function?  Catch exceptions?  Use a particular construct?)  Solutions that \"work\", but are not composed according to the directions will not receive [full] credit\n",
    "\n",
    "2.  This lab is to be done *individually*. You may talk to your fellow classmates about general issues (*\"Remind me again: What's the difference between a parameter and an argument?\"*) but not about the specifics of how to do these exercises.\n",
    "\n",
    "3.  Along a similar vein, you can ask the TA for help, but ask questions about **concepts**.  (i.e. *\"I don’t understand how the else block works\"*, not \"*my program isn’t doing what I want\"*).  The TA is there to help, but not to do your work for you.\n",
    "\n",
    "4.  You are welcome to use the class resources and the Internet. But try to google for *concepts*, not your specific tasks.  The goal for you to begin to start thinking algorithmically, and hopefully memorize a little syntax by osmosis. If you just blindly do the exercises, without actually *thinking* about them, the next time you see something related but slightly altered — like, say, on an exam — you won’t be able to solve the problem. So avoid brainlessly cutting and pasting code snippets.\n",
    "\n",
    "5.  Play with variations. Solve one of the problems, and then copy the code to a new cell and play around with it. Experiment! Break stuff! Doing this is **the single most important thing** when learning a programming language.\n",
    "\n",
    "6.  When you have finished all the exercises, let the TA know, and he will check your work.  Presuming you’ve done things correctly, you’re free to go.\n",
    "\n",
    "7.  Have fun!\n",
    "\n",
    "\n",
    "\n"
   ]
  },
  {
   "cell_type": "markdown",
   "metadata": {},
   "source": [
    "### Problem 1\n",
    "\n",
    "Think about a program which repeatedly reads numbers until the user enters \"done\". Once \"done\" is entered, it prints out the total, count, and average of the numbers. If the user enters anything other than a number, it detects their mistake using by catching exceptions (try/except), prints an error message, and prompts the user for the next number.\n",
    "\n",
    "How might you design this program?  Think about the different \"parts\" it contains: there's probably a loop of some sort, and a few conditionals based on what the user inputs, and some exception handling (and maybe other things I've haven't mentioned!)\n",
    "\n",
    "Write down in English -- or in *pseudo-code* -- how this program might look.  For example, if I was going to write a program that added up every number in a list of numbers (checking to make sure the elements of a list were numbers) I might write the following:\n",
    "\n",
    "~~~~~~~~~~~~~~~~~~~~~~~~~~~~~~~~~~~~~~~~~~~~~~~~~~~~~~~~~~~~~~~~~~~~~~~~~~~~~~~~\n",
    "set some running total to zero\n",
    "iterate through the list\n",
    "for each element in the list, I need to do some stuff:\n",
    "     check if the element is a legit number\n",
    "     if it is then I should\n",
    "          add the number to my running total\n",
    "     if it is not legit then I should\n",
    "          tell the user to do it right next time and move on to the next element\n",
    "~~~~~~~~~~~~~~~~~~~~~~~~~~~~~~~~~~~~~~~~~~~~~~~~~~~~~~~~~~~~~~~~~~~~~~~~~~~~~~~~\n",
    "\n",
    "Write your answer in the next cell, replacing the \"Replace this with your answer\" text in between the dashed lines.  Be **sure** to leave the \"-----------\" lines there. "
   ]
  },
  {
   "cell_type": "markdown",
   "metadata": {},
   "source": [
    "~~~~~~~~~~~~~~~~~~~~~~~~~~~~~~~~~~~~~~~~~~~~~~~~~~~~~~~~~~~~~~~~~~~~~~~~~~~~~~~~\n",
    "# Replace this text with your answer to Problem 1.  Leave the dashed lines above and below.\n",
    "\n",
    "~~~~~~~~~~~~~~~~~~~~~~~~~~~~~~~~~~~~~~~~~~~~~~~~~~~~~~~~~~~~~~~~~~~~~~~~~~~~~~~~\n",
    "\n",
    "\n"
   ]
  },
  {
   "cell_type": "markdown",
   "metadata": {},
   "source": [
    "### Problem 2\n",
    "\n",
    "Actually implmement the program described in Problem 1."
   ]
  },
  {
   "cell_type": "code",
   "execution_count": 7,
   "metadata": {},
   "outputs": [
    {
     "name": "stdout",
     "output_type": "stream",
     "text": [
      "Enter a number:fgfg\n",
      "That is not a number!  Try again.\n",
      "Enter a number:fdgdf\n",
      "That is not a number!  Try again.\n",
      "Enter a number:dfgdf\n",
      "That is not a number!  Try again.\n",
      "Enter a number:10\n",
      "Enter a number:done\n",
      "The total is 10\n",
      "The count is 1\n",
      "The average is 10.0\n"
     ]
    }
   ],
   "source": [
    "total = 0\n",
    "average = 0\n",
    "count = 0\n",
    "while True:\n",
    "    try:\n",
    "        user_input = input(\"Enter a number:\")\n",
    "        if user_input == 'done':\n",
    "            break\n",
    "        total = total + int(user_input)\n",
    "        count = count + 1\n",
    "    except ValueError:\n",
    "        print(\"That is not a number!  Try again.\")\n",
    "print(\"The total is\", total)\n",
    "print(\"The count is\", count)\n",
    "print(\"The average is\", float(total)/count)"
   ]
  },
  {
   "cell_type": "markdown",
   "metadata": {},
   "source": [
    "### Problem 3\n",
    "\n",
    "Write a function called *letter_count* that takes two arguments, \"word\" and \"letter\", and returns how many times that letter appears in the word.\n",
    "\n",
    "For example:\n",
    "~~~~~~~~~~~~~~~~~~~~~~~~~~~~~~~~~~~~~~~~~~~~~~~~~~~~~~~~~~~~~~~~~~~~~~~~~~~~~~~~\n",
    "> count = letter_count('jeremy', 'e')\n",
    "> print(count)\n",
    "2\n",
    "> count = letter_count('jeremy', 'z')\n",
    "> print(count)\n",
    "0\n",
    "~~~~~~~~~~~~~~~~~~~~~~~~~~~~~~~~~~~~~~~~~~~~~~~~~~~~~~~~~~~~~~~~~~~~~~~~~~~~~~~~\n",
    "\n"
   ]
  },
  {
   "cell_type": "code",
   "execution_count": 9,
   "metadata": {
    "collapsed": true
   },
   "outputs": [],
   "source": [
    "def letter_count(word, letter):\n",
    "    count = 0\n",
    "    for letter_in_word in word:\n",
    "        if letter_in_word == letter:\n",
    "            count = count + 1\n",
    "    return count\n"
   ]
  },
  {
   "cell_type": "code",
   "execution_count": 14,
   "metadata": {},
   "outputs": [
    {
     "data": {
      "text/plain": [
       "1"
      ]
     },
     "execution_count": 14,
     "metadata": {},
     "output_type": "execute_result"
    }
   ],
   "source": [
    "letter_count('jeremy', 'r')"
   ]
  },
  {
   "cell_type": "markdown",
   "metadata": {},
   "source": [
    "### Problem 4\n",
    "\n",
    "Write a function called *get_filename* that takes one argument, *file_list*, which a list of strings.  The function should print out each file name in the list, without the surrounding extenstion or path information (see example below).  The function should return the *total* length of all filenames added together.  Again, see the sample output below:\n",
    "\n",
    "For example:\n",
    "~~~~~~~~~~~~~~~~~~~~~~~~~~~~~~~~~~~~~~~~~~~~~~~~~~~~~~~~~~~~~~~~~~~~~~~~~~~~~~~~\n",
    "> my_list = ['/Users/file1.txt', '/Users/jeremy/file2.txt', '/a.doc']\n",
    "> total = get_filename(my_list)\n",
    "file1\n",
    "file2\n",
    "a\n",
    "> print(total)\n",
    "11\n",
    "\n",
    "~~~~~~~~~~~~~~~~~~~~~~~~~~~~~~~~~~~~~~~~~~~~~~~~~~~~~~~~~~~~~~~~~~~~~~~~~~~~~~~~\n",
    "\n",
    "**HINT**: The *rfind* method works on strings much like the *find* method we saw in class, but it starts searching on the **right** side of the string, not the left.  \n",
    "\n",
    "You can [should] use the sample lists in the cell below.\n",
    "\n"
   ]
  },
  {
   "cell_type": "code",
   "execution_count": 45,
   "metadata": {
    "collapsed": true
   },
   "outputs": [],
   "source": [
    "def get_filename(file_list):\n",
    "    total = 0\n",
    "    for file in file_list:\n",
    "        r_dot_pos = file.find('.')\n",
    "        r_slash_pos = file.rfind('/')\n",
    "        filename = file[r_slash_pos+1:r_dot_pos]\n",
    "        total = total + len(filename)\n",
    "        print(filename)\n",
    "    return total"
   ]
  },
  {
   "cell_type": "code",
   "execution_count": 46,
   "metadata": {},
   "outputs": [
    {
     "name": "stdout",
     "output_type": "stream",
     "text": [
      "file1\n",
      "file2\n",
      "a\n"
     ]
    },
    {
     "data": {
      "text/plain": [
       "11"
      ]
     },
     "execution_count": 46,
     "metadata": {},
     "output_type": "execute_result"
    }
   ],
   "source": [
    "my_list1 = ['/Users/file1.txt', '/Users/jeremy/file2.txt', '/a.doc']\n",
    "get_filename(my_list1)"
   ]
  },
  {
   "cell_type": "code",
   "execution_count": null,
   "metadata": {
    "collapsed": true
   },
   "outputs": [],
   "source": []
  }
 ],
 "metadata": {
  "kernelspec": {
   "display_name": "Python 3",
   "language": "python",
   "name": "python3"
  },
  "language_info": {
   "codemirror_mode": {
    "name": "ipython",
    "version": 3
   },
   "file_extension": ".py",
   "mimetype": "text/x-python",
   "name": "python",
   "nbconvert_exporter": "python",
   "pygments_lexer": "ipython3",
   "version": "3.6.1"
  }
 },
 "nbformat": 4,
 "nbformat_minor": 2
}
