{
 "cells": [
  {
   "cell_type": "markdown",
   "metadata": {},
   "source": [
    "INF 510, Lab #2\n",
    "---------------\n",
    "\n",
    "Thursday, January 11 2018 (5:00 - 6:50pm)\n",
    "\n",
    " \n",
    "\n",
    "### Lab rules\n",
    "\n",
    "1.  This lab is to be done *individually*. You may talk to your fellow classmates about general issues (*\"Remind me again: What's the difference between a parameter and an argument?\"*) but not about the specifics of how to do these exercises.\n",
    "\n",
    "2.  Along a similar vein, you can ask the TA for help, but ask questions about **concepts**.  (i.e. *\"I don’t understand how the else block works\"*, not \"*my program isn’t doing what I want\"*).  The TA is there to help, but not to do your work for you.\n",
    "\n",
    "3.  You are welcome to use the class resources and the Internet. But try to google for *concepts*, not your specific tasks.  The goal for you to begin to start thinking algorithmically, and hopefully memorize a little syntax by osmosis. If you just blindly do the exercises, without actually *thinking* about them, the next time you see something related but slightly altered — like, say, on an exam — you won’t be able to solve the problem. So avoid brainlessly cutting and pasting code snippets.\n",
    "\n",
    "4.  Play with variations. Solve one of the problems, and then copy the code to a new cell and play around with it. Experiment! Break stuff! Doing this is **the single most important thing** when learning a programming language.\n",
    "\n",
    "5.  When you have finished all the exercises, let the TA know, and he will check your work.  Presuming you’ve done things correctly, you’re free to go.\n",
    "\n",
    "6.  Have fun!\n"
   ]
  },
  {
   "cell_type": "markdown",
   "metadata": {},
   "source": [
    "### Problem 1\n",
    "\n",
    "Write a program that asks the user \"How many cents do you have?\", and accepts an input.  Then, the program computes the number of dollars and cents you have, and outputs the appropriate values.  You should verify the user has typed in an appropriate input by catching exceptions.  You’ll need to look in the Python 3 \"integer division\" and \"modulus\" operators to do the math to compute dollars and cents from just cents.  The following code might be helpful:\n",
    "~~~~~~~~~~~~~~~~~~~~~~~~~~~~~~~~~~~~~~~~~~~~~~~~~~~~~~~~~~~~~~~~~~~~~~~~~~~~~~~~\n",
    "# One potential output string  \n",
    "print(\"You have \", dollars, \"dollars and \", cents, \"cents\")\n",
    "~~~~~~~~~~~~~~~~~~~~~~~~~~~~~~~~~~~~~~~~~~~~~~~~~~~~~~~~~~~~~~~~~~~~~~~~~~~~~~~~\n"
   ]
  },
  {
   "cell_type": "code",
   "execution_count": 20,
   "metadata": {
    "collapsed": false
   },
   "outputs": [
    {
     "name": "stdout",
     "output_type": "stream",
     "text": [
      "Enter how many cents102\n",
      "You have 1 dollars and  2 cents\n"
     ]
    }
   ],
   "source": [
    "cents = input(\"Enter how many cents\")\n",
    "try:\n",
    "    cents = int(cents)\n",
    "    dollars = cents // 100\n",
    "    cents = cents % 100\n",
    "    print(\"You have\", dollars, \"dollars and \", cents, \"cents\")\n",
    "except ValueError:\n",
    "    print(\"You didn't enter an integer\")"
   ]
  },
  {
   "cell_type": "markdown",
   "metadata": {},
   "source": [
    "### Problem 2\n",
    "\n",
    "Take your code from above and convert it into a function.  It should take one argument (and *have* one parameter), which is the number of cents, so you no longer need to collect user input.  The function should also catch exceptions for valid user input as above, and print out the same output.  The function should return \"You can buy a cookie!\" if the number of dollars is greater than 2, and \"No cookie for you!\" If the number of dollars is less than or equal to 2.  After defining your function in a cell, invoke your function in the cell after that, and have it print out the return value.\n",
    "\n"
   ]
  },
  {
   "cell_type": "code",
   "execution_count": 38,
   "metadata": {
    "collapsed": true
   },
   "outputs": [],
   "source": [
    "def rich_or_poor(number_of_cents):\n",
    "    try:\n",
    "        cents = int(number_of_cents)\n",
    "        dollars = cents // 100\n",
    "        cents = cents % 100\n",
    "        print(\"You have\", dollars, \"dollars and\", cents, \"cents\")\n",
    "    except ValueError:\n",
    "        print(\"You didn't enter an integer\")\n",
    "    if dollars > 2:\n",
    "        return \"You can buy a cookie!\"\n",
    "    else:\n",
    "        return \"No cookie for you!\"\n",
    "    # Note, could have also done an elif or else if"
   ]
  },
  {
   "cell_type": "code",
   "execution_count": 39,
   "metadata": {
    "collapsed": false
   },
   "outputs": [
    {
     "name": "stdout",
     "output_type": "stream",
     "text": [
      "You have 5 dollars and 5 cents\n",
      "You can buy a cookie!\n"
     ]
    }
   ],
   "source": [
    "print(rich_or_poor(505))"
   ]
  },
  {
   "cell_type": "markdown",
   "metadata": {},
   "source": [
    "### Problem 3\n",
    "\n",
    "Define a function called \"dispatch\" that takes three arguments, *first, middle* and *last.*  Dispatch then calls one of three functions:\n",
    "\n",
    "1.  If the length (use the *Len(string)* function to determine the length) of first is greater than middle and last, call *first_bigger*, with first as an argument, and then print out the returned value (see below).  You might need/want to use boolean operators here to simplify your conditional clauses.\n",
    "\n",
    "2.  If the length of middle is greater than first and last, call *middle_bigger*, with middle as an argument, and then print out the returned value (see below)\n",
    "\n",
    "3.  If the length of last is greater than first and middle, call *last_bigger*, with last as an argument, and then print out the returned value (see below)\n",
    "\n",
    "4.  If — and only if! — none of these happen, print out \"That’s weird!\", and that’s it.\n",
    "\n",
    " \n",
    "\n",
    "*First_bigger* should take its argument, covert it to uppercase, and return the new string.  This conversion can be done by using the following syntax (try it out on your own!:\n",
    "\n",
    "~~~~~~~~~~~~~~~~~~~~~~~~~~~~~~~~~~~~~~~~~~~~~~~~~~~~~~~~~~~~~~~~~~~~~~~~~~~~~~~~\n",
    "lower_case = \"heya\"\n",
    "upper_case = lower_case.upper()\n",
    "print(upper_case) # Prints \"HEYA\"​\n",
    "~~~~~~~~~~~~~~~~~~~~~~~~~~~~~~~~~~~~~~~~~~~~~~~~~~~~~~~~~~~~~~~~~~~~~~~~~~~~~~~~\n",
    "\n",
    " \n",
    "\n",
    "*Middle_bigger* should do the same thing, but use the .lower() function and return the new string.\n",
    "\n",
    " \n",
    "\n",
    "*last_bigger *should do the same thing, but it should concatenate the string \"son\" to the argument and return the new string.\n",
    "\n",
    " \n",
    "\n",
    "In each case, the calling function — dispatch — should print out the return value from the other function before terminating.  You do not need to catch exceptions here.  \n",
    "\n",
    "Here’s a sample output:\n",
    "\n",
    "~~~~~~~~~~~~~~~~~~~~~~~~~~~~~~~~~~~~~~~~~~~~~~~~~~~~~~~~~~~~~~~~~~~~~~~~~~~~~~~~\n",
    "[IN] dispatch(\"Jeremy\", \"David\", \"Abramson\")\n",
    "[OUT] Abramsonson\n",
    "[IN] dispatch(\"small\", \"REALLY BIG\", \"small\")\n",
    "[OUT] really big\n",
    "[IN] dispatch(\"Eff\", \"Dee\", \"Are\")\n",
    "[OUT] That's Weird!\n",
    "[IN] dispatch(\"longest\", \"longer\", \"long\")\n",
    "[OUT] LONGEST\n",
    "~~~~~~~~~~~~~~~~~~~~~~~~~~~~~~~~~~~~~~~~~~~~~~~~~~~~~~~~~~~~~~~~~~~~~~~~~~~~~~~~\n"
   ]
  },
  {
   "cell_type": "code",
   "execution_count": 67,
   "metadata": {
    "collapsed": true
   },
   "outputs": [],
   "source": [
    "def first_bigger(first):\n",
    "    return first.upper()\n",
    "def middle_bigger(middle):\n",
    "    return middle.lower()\n",
    "def last_bigger(last):\n",
    "    return last+\"son\"\n",
    "\n",
    "def dispatch(first, middle, last):\n",
    "    if (len(first) > len(middle)) and (len(first) > len(last)):\n",
    "        print(first_bigger(first))\n",
    "    elif (len(middle) > len(first)) and (len(middle) > len(last)):\n",
    "        print(middle_bigger(middle))\n",
    "    elif (len(last) > len(first)) and (len(last) > len(middle)):\n",
    "        print(last_bigger(last))\n",
    "    else:\n",
    "        print(\"That's weird!\")"
   ]
  },
  {
   "cell_type": "code",
   "execution_count": 75,
   "metadata": {
    "collapsed": false
   },
   "outputs": [
    {
     "name": "stdout",
     "output_type": "stream",
     "text": [
      "LONGEST\n"
     ]
    }
   ],
   "source": [
    "dispatch(\"longest\", \"longer\", \"long\")"
   ]
  },
  {
   "cell_type": "code",
   "execution_count": null,
   "metadata": {
    "collapsed": true
   },
   "outputs": [],
   "source": []
  }
 ],
 "metadata": {
  "kernelspec": {
   "display_name": "Python 2",
   "language": "python",
   "name": "python2"
  },
  "language_info": {
   "codemirror_mode": {
    "name": "ipython",
    "version": 2
   },
   "file_extension": ".py",
   "mimetype": "text/x-python",
   "name": "python",
   "nbconvert_exporter": "python",
   "pygments_lexer": "ipython2",
   "version": "2.7.13"
  }
 },
 "nbformat": 4,
 "nbformat_minor": 2
}
